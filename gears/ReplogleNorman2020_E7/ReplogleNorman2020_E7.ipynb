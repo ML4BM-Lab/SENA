{
 "cells": [
  {
   "cell_type": "code",
   "execution_count": null,
   "metadata": {},
   "outputs": [],
   "source": [
    "import gzip\n",
    "import os\n",
    "import tarfile\n",
    "\n",
    "import pandas as pd\n",
    "import scanpy as sc\n",
    "from utils import download_file"
   ]
  },
  {
   "cell_type": "code",
   "execution_count": null,
   "metadata": {},
   "outputs": [],
   "source": [
    "name = \"ReplogleNorman2020_E7\"\n",
    "dir_path = name\n",
    "os.makedirs(name=dir_path, exist_ok=True)"
   ]
  },
  {
   "cell_type": "markdown",
   "metadata": {},
   "source": [
    "Download the raw data and extract the downloaded tar file:"
   ]
  },
  {
   "cell_type": "code",
   "execution_count": null,
   "metadata": {},
   "outputs": [],
   "source": [
    "url = \"https://www.ncbi.nlm.nih.gov/geo/download/?acc=GSE146194&format=file\"\n",
    "tar_file_path = os.path.join(dir_path, \"GSE146194_RAW.tar\")\n",
    "extract_dir_path = os.path.join(dir_path, \"GSE146194_RAW\")\n",
    "\n",
    "download_file(url=url, path=tar_file_path)\n",
    "\n",
    "with tarfile.open(name=tar_file_path, mode=\"r\") as tar:\n",
    "    tar.extractall(path=extract_dir_path, filter=None)"
   ]
  },
  {
   "cell_type": "markdown",
   "metadata": {},
   "source": [
    "Load the data for experiment 7 (CRISPRi multiplexing):"
   ]
  },
  {
   "cell_type": "code",
   "execution_count": null,
   "metadata": {},
   "outputs": [],
   "source": [
    "adata = sc.read_10x_mtx(\n",
    "    path=extract_dir_path,\n",
    "    var_names=\"gene_ids\",\n",
    "    cache=False,\n",
    "    prefix=\"GSM4367985_exp7.\",\n",
    ")"
   ]
  },
  {
   "cell_type": "markdown",
   "metadata": {},
   "source": [
    "Add info from the `*_cell_identities.csv.gz` file to `adata`:"
   ]
  },
  {
   "cell_type": "code",
   "execution_count": null,
   "metadata": {},
   "outputs": [],
   "source": [
    "cell_identities_file_path = os.path.join(\n",
    "    extract_dir_path, \"GSM4367985_exp7.cell_identities.csv.gz\"\n",
    ")\n",
    "barcodes_file_path = os.path.join(extract_dir_path, \"GSM4367985_exp7.barcodes.tsv.gz\")\n",
    "\n",
    "with gzip.open(filename=cell_identities_file_path, mode=\"r\") as cell_identities_file:\n",
    "    cell_identities_df = pd.read_csv(filepath_or_buffer=cell_identities_file)\n",
    "    with gzip.open(filename=barcodes_file_path, mode=\"r\") as barcodes_file:\n",
    "        barcodes_df = pd.read_csv(\n",
    "            filepath_or_buffer=barcodes_file, header=None, names=[\"cell_barcode\"]\n",
    "        )\n",
    "        merged_df = pd.merge(\n",
    "            left=barcodes_df,\n",
    "            right=cell_identities_df,\n",
    "            on=\"cell_barcode\",\n",
    "            how=\"left\",\n",
    "        )\n",
    "\n",
    "        # Ensure the merged_df index matches the obs_names of adata.\n",
    "        merged_df.set_index(keys=\"cell_barcode\", inplace=True)\n",
    "\n",
    "        # Convert all columns to strings.\n",
    "        merged_df = merged_df.astype(dtype=str)\n",
    "\n",
    "        # Add the merged_df as obs to adata.\n",
    "        adata.obs = merged_df"
   ]
  },
  {
   "cell_type": "markdown",
   "metadata": {},
   "source": [
    "Add info from the `*_features.tsv.gz` file to `adata`:"
   ]
  },
  {
   "cell_type": "code",
   "execution_count": null,
   "metadata": {},
   "outputs": [],
   "source": [
    "features_file_path = os.path.join(extract_dir_path, \"GSM4367985_exp7.features.tsv.gz\")\n",
    "\n",
    "with gzip.open(filename=features_file_path, mode=\"r\") as features_file:\n",
    "    features_df = pd.read_csv(\n",
    "        filepath_or_buffer=features_file,\n",
    "        header=None,\n",
    "        names=[\"gene_id\", \"gene_name\", \"gene_expression\"],\n",
    "    )\n",
    "\n",
    "    # Ensure the merged_df index matches the obs_names of adata.\n",
    "    features_df.set_index(keys=\"cell_barcode\", inplace=True)\n",
    "\n",
    "    # Convert all columns to strings.\n",
    "    features_df = features_df.astype(dtype=str)\n",
    "\n",
    "    # Add the features_df as var to adata.\n",
    "    adata.var = features_df"
   ]
  },
  {
   "cell_type": "code",
   "execution_count": null,
   "metadata": {},
   "outputs": [],
   "source": [
    "# TODO: In adata.obs:\n",
    "# - Rename \"gene\" | \"type\" | \"target\" -> \"condition\"\n",
    "# - Rename \"cell_barcode\" | \"type\" | \"gene_type\" -> \"cell_type\""
   ]
  },
  {
   "cell_type": "markdown",
   "metadata": {},
   "source": [
    "Save the data to an H5AD file:"
   ]
  },
  {
   "cell_type": "code",
   "execution_count": null,
   "metadata": {},
   "outputs": [],
   "source": [
    "h5ad_file_path = os.path.join(dir_path, \"adata.h5ad\")\n",
    "adata.write(filename=h5ad_file_path)"
   ]
  }
 ],
 "metadata": {
  "kernelspec": {
   "display_name": "Python 3",
   "language": "python",
   "name": "python3"
  },
  "language_info": {
   "codemirror_mode": {
    "name": "ipython",
    "version": 3
   },
   "file_extension": ".py",
   "mimetype": "text/x-python",
   "name": "python",
   "nbconvert_exporter": "python",
   "pygments_lexer": "ipython3",
   "version": "3.12.7"
  }
 },
 "nbformat": 4,
 "nbformat_minor": 2
}
